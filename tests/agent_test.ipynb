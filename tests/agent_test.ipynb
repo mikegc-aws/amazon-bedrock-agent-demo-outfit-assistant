{
 "cells": [
  {
   "cell_type": "markdown",
   "metadata": {},
   "source": [
    "## Test an Amazon Bedrock Agent\n",
    "\n",
    "The following code example shows how to invoke an Amazon Bedrock Agent using Python. This is a very simple test as does not include session state management. \n",
    "\n",
    "In order to run this example, you will need a running agent, and the following information: \n",
    "\n",
    " - **agentId** - (An id created for the agent, this will resemble `XYZ123ABC0`.  You can find this on the `Agents` console page under `Agent overview`.)\n",
    " - **agentAliasId** - (An id created for the deployed agent version to use, this will also resemble `XYZ123ABC0` but will be different to the agentId.  You can find this on the `Agents` console page under `Aliases`.)\n",
    "\n",
    "\n",
    "*Note: This code was written and tested in Jan 2024, using boto3 version 1.34.23. You can find more details about the latest AgentsforBedrockRuntime Boto3 Client here: https://boto3.amazonaws.com/v1/documentation/api/latest/reference/services/bedrock-agent-runtime.html*"
   ]
  },
  {
   "cell_type": "code",
   "execution_count": null,
   "metadata": {},
   "outputs": [],
   "source": [
    "import boto3\n",
    "import botocore"
   ]
  },
  {
   "cell_type": "markdown",
   "metadata": {},
   "source": [
    "It's not uncommon for some agents to take a significant amount of time to return.  This may be caused by agents that make take many steps to create a response.  As such we extend the timeout of the standard Boto3 client as we create an instance of the Amazon Bedrock Agent Runtime client object. "
   ]
  },
  {
   "cell_type": "code",
   "execution_count": null,
   "metadata": {},
   "outputs": [],
   "source": [
    "config = botocore.config.Config(\n",
    "    read_timeout=900,\n",
    "    connect_timeout=900,\n",
    "    retries={\"max_attempts\": 0}\n",
    ")\n",
    "\n",
    "bedrock_agent_runtime = boto3.client(\"bedrock-agent-runtime\", region_name=\"us-west-2\", config=config)"
   ]
  },
  {
   "cell_type": "markdown",
   "metadata": {},
   "source": [
    "Calling `invoke_agent` on the client will result in a Botocore streaming object called `completion` that may contain one or more `chunk`s of data.  To accommodate this, as soon as we invoke the agent, you will start to parse the response and will continue to do so until the completion is complete. Then you will print the output from the Agent. "
   ]
  },
  {
   "cell_type": "code",
   "execution_count": null,
   "metadata": {},
   "outputs": [],
   "source": [
    "response = bedrock_agent_runtime.invoke_agent(\n",
    "    agentId='XYZ123ABC0',      # Identifier for Agent\n",
    "    agentAliasId='XYZ123ABC0', # Identifier for Agent Alias\n",
    "    sessionId='session123',    # Identifier used for the current session\n",
    "    inputText='text to send to the agent'\n",
    ")\n",
    "\n",
    "output = \"\"\n",
    "\n",
    "stream = response.get('completion')\n",
    "if stream:\n",
    "    for event in stream:\n",
    "        chunk = event.get('chunk')\n",
    "        if chunk:\n",
    "            output += chunk.get('bytes').decode()\n",
    "\n",
    "print(output)"
   ]
  }
 ],
 "metadata": {
  "language_info": {
   "name": "python"
  }
 },
 "nbformat": 4,
 "nbformat_minor": 2
}
